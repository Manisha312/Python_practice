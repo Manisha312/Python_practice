{
 "cells": [
  {
   "cell_type": "markdown",
   "id": "065324a5",
   "metadata": {},
   "source": [
    "# Function practice exercises"
   ]
  },
  {
   "cell_type": "markdown",
   "id": "fd39c671",
   "metadata": {},
   "source": [
    "# exercise-1"
   ]
  },
  {
   "cell_type": "code",
   "execution_count": 11,
   "id": "5ffe865d",
   "metadata": {},
   "outputs": [],
   "source": [
    "# LESSER OF TWO EVENS: Write a function that returns the lesser of two given numbers if both numbers are even, but returns the greater if one or both numbers are odd\n",
    "#lesser_of_two_evens(2,4) --> 2\n",
    "#lesser_of_two_evens(2,5) --> 5 \n"
   ]
  },
  {
   "cell_type": "code",
   "execution_count": 8,
   "id": "2e5dd447",
   "metadata": {},
   "outputs": [],
   "source": [
    "def lesser_of_two_evens(a,b):\n",
    "    if a > b:\n",
    "        if a % 2 == b%2 == 0:\n",
    "            return b\n",
    "        elif a%2 == b%2 == 1 :\n",
    "            return a\n",
    "        elif a%2 == 0 and b%2 == 1 or a%2 ==1 and b%2 ==0:\n",
    "            return a\n",
    "    elif b > a:\n",
    "        if a % 2 == b%2 == 0:\n",
    "            return a\n",
    "        elif a%2 == b%2 == 1 :\n",
    "            return b\n",
    "        elif a%2 == 0 and b%2 == 1 or a%2 ==1 and b%2 ==0:\n",
    "            return b\n",
    "    else:\n",
    "        return a"
   ]
  },
  {
   "cell_type": "code",
   "execution_count": 3,
   "id": "02dff379",
   "metadata": {},
   "outputs": [
    {
     "data": {
      "text/plain": [
       "4"
      ]
     },
     "execution_count": 3,
     "metadata": {},
     "output_type": "execute_result"
    }
   ],
   "source": [
    "lesser_of_two_evens(4,44)"
   ]
  },
  {
   "cell_type": "code",
   "execution_count": 4,
   "id": "a840f8dc",
   "metadata": {},
   "outputs": [
    {
     "data": {
      "text/plain": [
       "45"
      ]
     },
     "execution_count": 4,
     "metadata": {},
     "output_type": "execute_result"
    }
   ],
   "source": [
    "lesser_of_two_evens(4,45)"
   ]
  },
  {
   "cell_type": "code",
   "execution_count": 9,
   "id": "48a84f6f",
   "metadata": {},
   "outputs": [
    {
     "data": {
      "text/plain": [
       "3"
      ]
     },
     "execution_count": 9,
     "metadata": {},
     "output_type": "execute_result"
    }
   ],
   "source": [
    "lesser_of_two_evens(3,3)"
   ]
  },
  {
   "cell_type": "code",
   "execution_count": 7,
   "id": "55af8e3a",
   "metadata": {},
   "outputs": [
    {
     "data": {
      "text/plain": [
       "75"
      ]
     },
     "execution_count": 7,
     "metadata": {},
     "output_type": "execute_result"
    }
   ],
   "source": [
    "lesser_of_two_evens(3,75)"
   ]
  },
  {
   "cell_type": "markdown",
   "id": "fdda25a8",
   "metadata": {},
   "source": [
    "---"
   ]
  },
  {
   "cell_type": "markdown",
   "id": "2e556da5",
   "metadata": {},
   "source": [
    "# exercise-2"
   ]
  },
  {
   "cell_type": "code",
   "execution_count": 10,
   "id": "d581e87e",
   "metadata": {},
   "outputs": [],
   "source": [
    "# ANIMAL CRACKERS: Write a function takes a two-word string and returns True if both words begin with same letter\n",
    "# animal_crackers('Levelheaded Llama') --> True\n",
    "# animal_crackers('Crazy Kangaroo') --> False"
   ]
  },
  {
   "cell_type": "code",
   "execution_count": 12,
   "id": "08898bcf",
   "metadata": {},
   "outputs": [],
   "source": [
    "def animal_cracker(textstr):\n",
    "    s1,s2 = textstr.split(\" \")\n",
    "    if s1[0].upper() == s2[0].upper():\n",
    "        return True\n",
    "    \n",
    "    return False\n",
    "    "
   ]
  },
  {
   "cell_type": "code",
   "execution_count": 13,
   "id": "579aa875",
   "metadata": {},
   "outputs": [
    {
     "data": {
      "text/plain": [
       "True"
      ]
     },
     "execution_count": 13,
     "metadata": {},
     "output_type": "execute_result"
    }
   ],
   "source": [
    "animal_cracker(\"Manisha Manish\")"
   ]
  },
  {
   "cell_type": "code",
   "execution_count": 14,
   "id": "2af7f5db",
   "metadata": {},
   "outputs": [
    {
     "data": {
      "text/plain": [
       "True"
      ]
     },
     "execution_count": 14,
     "metadata": {},
     "output_type": "execute_result"
    }
   ],
   "source": [
    "animal_cracker(\"Levelheaded Llama\")"
   ]
  },
  {
   "cell_type": "code",
   "execution_count": 16,
   "id": "e55050d0",
   "metadata": {},
   "outputs": [
    {
     "data": {
      "text/plain": [
       "False"
      ]
     },
     "execution_count": 16,
     "metadata": {},
     "output_type": "execute_result"
    }
   ],
   "source": [
    "animal_cracker('Crazy Kangaroo')"
   ]
  },
  {
   "cell_type": "markdown",
   "id": "856e8851",
   "metadata": {},
   "source": [
    "---"
   ]
  },
  {
   "cell_type": "markdown",
   "id": "38e5a96f",
   "metadata": {},
   "source": [
    "# exercise-3"
   ]
  },
  {
   "cell_type": "code",
   "execution_count": 17,
   "id": "3470f3c1",
   "metadata": {},
   "outputs": [],
   "source": [
    "# MAKES TWENTY: Given two integers, return True if the sum of the integers is 20 or if one of the integers is 20. If not, return False\n",
    "# makes_twenty(20,10) --> True\n",
    "# makes_twenty(12,8) --> True\n",
    "# makes_twenty(2,3) --> False"
   ]
  },
  {
   "cell_type": "code",
   "execution_count": 21,
   "id": "23686adf",
   "metadata": {},
   "outputs": [],
   "source": [
    "def makes_twenty(a,b):\n",
    "    if a == 20 or b == 20:\n",
    "        return True\n",
    "    elif sum((a,b))==20:\n",
    "        return True\n",
    "    else:\n",
    "        return False"
   ]
  },
  {
   "cell_type": "code",
   "execution_count": 19,
   "id": "7463071c",
   "metadata": {},
   "outputs": [
    {
     "data": {
      "text/plain": [
       "True"
      ]
     },
     "execution_count": 19,
     "metadata": {},
     "output_type": "execute_result"
    }
   ],
   "source": [
    "makes_twenty(20,10)"
   ]
  },
  {
   "cell_type": "code",
   "execution_count": 22,
   "id": "abff47c1",
   "metadata": {},
   "outputs": [
    {
     "data": {
      "text/plain": [
       "True"
      ]
     },
     "execution_count": 22,
     "metadata": {},
     "output_type": "execute_result"
    }
   ],
   "source": [
    "makes_twenty(10,10)"
   ]
  },
  {
   "cell_type": "code",
   "execution_count": 23,
   "id": "f5c32325",
   "metadata": {},
   "outputs": [
    {
     "data": {
      "text/plain": [
       "True"
      ]
     },
     "execution_count": 23,
     "metadata": {},
     "output_type": "execute_result"
    }
   ],
   "source": [
    "makes_twenty(12,8)"
   ]
  },
  {
   "cell_type": "code",
   "execution_count": 24,
   "id": "2bc33213",
   "metadata": {},
   "outputs": [
    {
     "data": {
      "text/plain": [
       "False"
      ]
     },
     "execution_count": 24,
     "metadata": {},
     "output_type": "execute_result"
    }
   ],
   "source": [
    "makes_twenty(3,7)"
   ]
  },
  {
   "cell_type": "markdown",
   "id": "9a8feea4",
   "metadata": {},
   "source": [
    "---"
   ]
  },
  {
   "cell_type": "markdown",
   "id": "a946802d",
   "metadata": {},
   "source": [
    "# LEVEL ONE PROBLEM"
   ]
  },
  {
   "cell_type": "markdown",
   "id": "19f8a238",
   "metadata": {},
   "source": [
    "# exercise-4"
   ]
  },
  {
   "cell_type": "code",
   "execution_count": 25,
   "id": "723612fd",
   "metadata": {},
   "outputs": [],
   "source": [
    "# OLD MACDONALD: Write a function that capitalizes the first and fourth letters of a name\n",
    "# old_macdonald('macdonald') --> MacDonald"
   ]
  },
  {
   "cell_type": "code",
   "execution_count": 34,
   "id": "870fd8df",
   "metadata": {},
   "outputs": [],
   "source": [
    "def old_macdonald(name):\n",
    "    mylist = list(name)\n",
    "    mylist[0] = mylist[0].upper()\n",
    "    mylist[3] = mylist[3].upper()\n",
    "    return ''.join(mylist)"
   ]
  },
  {
   "cell_type": "code",
   "execution_count": 35,
   "id": "e37275af",
   "metadata": {},
   "outputs": [
    {
     "data": {
      "text/plain": [
       "'MacDonald'"
      ]
     },
     "execution_count": 35,
     "metadata": {},
     "output_type": "execute_result"
    }
   ],
   "source": [
    "old_macdonald('macdonald')"
   ]
  },
  {
   "cell_type": "markdown",
   "id": "ff08fa12",
   "metadata": {},
   "source": [
    "---"
   ]
  },
  {
   "cell_type": "markdown",
   "id": "e211c249",
   "metadata": {},
   "source": [
    "# exercise-5"
   ]
  },
  {
   "cell_type": "code",
   "execution_count": null,
   "id": "444d63b6",
   "metadata": {},
   "outputs": [],
   "source": [
    "# MASTER YODA: Given a sentence, return a sentence with the words reversed\n",
    "# master_yoda('I am home') --> 'home am I'\n",
    "# master_yoda('We are ready') --> 'ready are We'"
   ]
  },
  {
   "cell_type": "code",
   "execution_count": 36,
   "id": "d1ce34c0",
   "metadata": {},
   "outputs": [],
   "source": [
    "def master_yoda(text):\n",
    "    return ' '.join(text.split()[::-1])"
   ]
  },
  {
   "cell_type": "code",
   "execution_count": 37,
   "id": "ea56f076",
   "metadata": {},
   "outputs": [
    {
     "data": {
      "text/plain": [
       "'home am I'"
      ]
     },
     "execution_count": 37,
     "metadata": {},
     "output_type": "execute_result"
    }
   ],
   "source": [
    "master_yoda('I am home')"
   ]
  },
  {
   "cell_type": "code",
   "execution_count": 38,
   "id": "1d5797f4",
   "metadata": {},
   "outputs": [
    {
     "data": {
      "text/plain": [
       "'ready am I'"
      ]
     },
     "execution_count": 38,
     "metadata": {},
     "output_type": "execute_result"
    }
   ],
   "source": [
    "master_yoda('I am ready')"
   ]
  },
  {
   "cell_type": "markdown",
   "id": "908fcc0f",
   "metadata": {},
   "source": [
    "# exercise-5 --> 1.alternative"
   ]
  },
  {
   "cell_type": "code",
   "execution_count": 39,
   "id": "ac0907f4",
   "metadata": {},
   "outputs": [],
   "source": [
    "def master_yoda(text):\n",
    "    return ' '.join(reversed(text.split()))"
   ]
  },
  {
   "cell_type": "code",
   "execution_count": 40,
   "id": "e9c2d6e6",
   "metadata": {},
   "outputs": [
    {
     "data": {
      "text/plain": [
       "'ready am I'"
      ]
     },
     "execution_count": 40,
     "metadata": {},
     "output_type": "execute_result"
    }
   ],
   "source": [
    "master_yoda('I am ready')"
   ]
  },
  {
   "cell_type": "code",
   "execution_count": 42,
   "id": "78777ec7",
   "metadata": {},
   "outputs": [
    {
     "data": {
      "text/plain": [
       "'home am I'"
      ]
     },
     "execution_count": 42,
     "metadata": {},
     "output_type": "execute_result"
    }
   ],
   "source": [
    "master_yoda('I am home')"
   ]
  },
  {
   "cell_type": "markdown",
   "id": "b95e8948",
   "metadata": {},
   "source": [
    "# exercise-5 --> 2.alternative"
   ]
  },
  {
   "cell_type": "code",
   "execution_count": 47,
   "id": "0ef27a94",
   "metadata": {},
   "outputs": [],
   "source": [
    "def master_yoda(text):\n",
    "    string = text.split()\n",
    "    string.reverse()\n",
    "    return \" \".join(string)"
   ]
  },
  {
   "cell_type": "code",
   "execution_count": 49,
   "id": "07e4fcda",
   "metadata": {},
   "outputs": [
    {
     "data": {
      "text/plain": [
       "'home from away are We'"
      ]
     },
     "execution_count": 49,
     "metadata": {},
     "output_type": "execute_result"
    }
   ],
   "source": [
    "master_yoda('We are away from home')"
   ]
  },
  {
   "cell_type": "markdown",
   "id": "bec576ec",
   "metadata": {},
   "source": [
    "---"
   ]
  },
  {
   "cell_type": "markdown",
   "id": "e2e85c4f",
   "metadata": {},
   "source": [
    "# exercise-6"
   ]
  },
  {
   "cell_type": "code",
   "execution_count": 50,
   "id": "92c175fd",
   "metadata": {},
   "outputs": [],
   "source": [
    "# ALMOST THERE: Given an integer n, return True if n is within 10 of either 100 or 200\n"
   ]
  },
  {
   "cell_type": "code",
   "execution_count": 56,
   "id": "b6e4d1e2",
   "metadata": {},
   "outputs": [],
   "source": [
    "def almost_there(n):\n",
    "    if (n in range(90,110)):\n",
    "        return True\n",
    "    elif (n in range(190, 210)):\n",
    "        return True\n",
    "    else:\n",
    "        return False"
   ]
  },
  {
   "cell_type": "code",
   "execution_count": 57,
   "id": "24f2b7d5",
   "metadata": {},
   "outputs": [
    {
     "data": {
      "text/plain": [
       "True"
      ]
     },
     "execution_count": 57,
     "metadata": {},
     "output_type": "execute_result"
    }
   ],
   "source": [
    "almost_there(90)"
   ]
  },
  {
   "cell_type": "code",
   "execution_count": 58,
   "id": "33d2bf56",
   "metadata": {},
   "outputs": [
    {
     "data": {
      "text/plain": [
       "True"
      ]
     },
     "execution_count": 58,
     "metadata": {},
     "output_type": "execute_result"
    }
   ],
   "source": [
    "almost_there(104)"
   ]
  },
  {
   "cell_type": "markdown",
   "id": "6c19c479",
   "metadata": {},
   "source": [
    "# exercise-6 --> alternative"
   ]
  },
  {
   "cell_type": "code",
   "execution_count": 61,
   "id": "176e00b6",
   "metadata": {},
   "outputs": [],
   "source": [
    "def almost_there(n):\n",
    "    if (abs(100 - n) <= 10) or (abs(200 - n)<=10):\n",
    "        return True\n",
    "    else:\n",
    "        return False "
   ]
  },
  {
   "cell_type": "code",
   "execution_count": 62,
   "id": "03686b2f",
   "metadata": {},
   "outputs": [
    {
     "data": {
      "text/plain": [
       "True"
      ]
     },
     "execution_count": 62,
     "metadata": {},
     "output_type": "execute_result"
    }
   ],
   "source": [
    "almost_there(90)"
   ]
  },
  {
   "cell_type": "code",
   "execution_count": 63,
   "id": "c07aa682",
   "metadata": {},
   "outputs": [
    {
     "data": {
      "text/plain": [
       "True"
      ]
     },
     "execution_count": 63,
     "metadata": {},
     "output_type": "execute_result"
    }
   ],
   "source": [
    "almost_there(104)"
   ]
  },
  {
   "cell_type": "code",
   "execution_count": 64,
   "id": "ec39ffdf",
   "metadata": {},
   "outputs": [
    {
     "data": {
      "text/plain": [
       "False"
      ]
     },
     "execution_count": 64,
     "metadata": {},
     "output_type": "execute_result"
    }
   ],
   "source": [
    "almost_there(150)"
   ]
  },
  {
   "cell_type": "code",
   "execution_count": 65,
   "id": "9e1f6620",
   "metadata": {},
   "outputs": [
    {
     "data": {
      "text/plain": [
       "True"
      ]
     },
     "execution_count": 65,
     "metadata": {},
     "output_type": "execute_result"
    }
   ],
   "source": [
    "almost_there(209)"
   ]
  },
  {
   "cell_type": "markdown",
   "id": "78dc4aee",
   "metadata": {},
   "source": [
    "---"
   ]
  },
  {
   "cell_type": "markdown",
   "id": "9a19d532",
   "metadata": {},
   "source": [
    "# LEVEL 2 PROBLEMS\n"
   ]
  },
  {
   "cell_type": "markdown",
   "id": "e5ffc151",
   "metadata": {},
   "source": [
    "# exercise-7"
   ]
  },
  {
   "cell_type": "code",
   "execution_count": 66,
   "id": "84d597c8",
   "metadata": {},
   "outputs": [],
   "source": [
    "# FIND 33:\n",
    "# Given a list of ints, return True if the array contains a 3 next to a 3 somewhere."
   ]
  },
  {
   "cell_type": "code",
   "execution_count": 87,
   "id": "c97f882d",
   "metadata": {},
   "outputs": [],
   "source": [
    "def has_33(nums):\n",
    "    for i in range(len(nums)-1):\n",
    "        if nums[i]==nums[i+1]==3:\n",
    "            return True\n",
    "        else:\n",
    "            pass \n",
    "        return False"
   ]
  },
  {
   "cell_type": "code",
   "execution_count": 88,
   "id": "b5390c55",
   "metadata": {},
   "outputs": [
    {
     "data": {
      "text/plain": [
       "True"
      ]
     },
     "execution_count": 88,
     "metadata": {},
     "output_type": "execute_result"
    }
   ],
   "source": [
    "has_33([3,3,4])"
   ]
  },
  {
   "cell_type": "code",
   "execution_count": 89,
   "id": "c3cf3662",
   "metadata": {},
   "outputs": [
    {
     "data": {
      "text/plain": [
       "False"
      ]
     },
     "execution_count": 89,
     "metadata": {},
     "output_type": "execute_result"
    }
   ],
   "source": [
    "has_33([4,3,3])"
   ]
  },
  {
   "cell_type": "code",
   "execution_count": 90,
   "id": "d933e346",
   "metadata": {},
   "outputs": [
    {
     "data": {
      "text/plain": [
       "False"
      ]
     },
     "execution_count": 90,
     "metadata": {},
     "output_type": "execute_result"
    }
   ],
   "source": [
    "has_33([3,5,3])"
   ]
  },
  {
   "cell_type": "markdown",
   "id": "33638e11",
   "metadata": {},
   "source": [
    "---"
   ]
  },
  {
   "cell_type": "markdown",
   "id": "50a94f92",
   "metadata": {},
   "source": [
    "# exercise-8"
   ]
  },
  {
   "cell_type": "code",
   "execution_count": 91,
   "id": "5e24d65e",
   "metadata": {},
   "outputs": [],
   "source": [
    "# PAPER DOLL: Given a string, return a string where for every character in the original there are three characters\n",
    "# paper_doll('Hello') --> 'HHHeeellllllooo'\n",
    "# paper_doll('Mississippi') --> 'MMMiiissssssiiippppppiii'"
   ]
  },
  {
   "cell_type": "code",
   "execution_count": 106,
   "id": "8109fc31",
   "metadata": {},
   "outputs": [],
   "source": [
    "def paper_doll(text):\n",
    "    my_string = \" \"\n",
    "    for i in range(len(text)):\n",
    "        my_string += (text[i] * 3)\n",
    "    print(my_string)\n",
    "    "
   ]
  },
  {
   "cell_type": "code",
   "execution_count": 107,
   "id": "9e830e3a",
   "metadata": {},
   "outputs": [
    {
     "name": "stdout",
     "output_type": "stream",
     "text": [
      " HHHeeellllllooo\n"
     ]
    }
   ],
   "source": [
    "paper_doll('Hello')"
   ]
  },
  {
   "cell_type": "code",
   "execution_count": 108,
   "id": "96a6aba5",
   "metadata": {},
   "outputs": [
    {
     "name": "stdout",
     "output_type": "stream",
     "text": [
      " MMMiiissssssiiissssssiiippppppiii\n"
     ]
    }
   ],
   "source": [
    "paper_doll('Mississippi')\n"
   ]
  },
  {
   "cell_type": "markdown",
   "id": "1cf86ae3",
   "metadata": {},
   "source": [
    "---"
   ]
  },
  {
   "cell_type": "markdown",
   "id": "86c36243",
   "metadata": {},
   "source": [
    "# exercise-9"
   ]
  },
  {
   "cell_type": "code",
   "execution_count": 155,
   "id": "507cbd6e",
   "metadata": {},
   "outputs": [],
   "source": [
    "# BLACKJACK: Given three integers between 1 and 11, if their sum is less than or equal to 21, return their sum. \n",
    "# If their sum exceeds 21 and there's an eleven, reduce the total sum by 10. Finally, if the sum\n",
    "# (even after adjustment) exceeds 21, return 'BUST'\n",
    "# blackjack(5,6,7) --> 18\n",
    "# blackjack(9,9,9) --> 'BUST'\n",
    "# blackjack(9,9,11) --> 19\n"
   ]
  },
  {
   "cell_type": "code",
   "execution_count": 151,
   "id": "d8edc277",
   "metadata": {},
   "outputs": [],
   "source": [
    "def blackjack(a,b,c):\n",
    "    sum_abc = a+b+c\n",
    "    if sum_abc <= 21:\n",
    "        return sum_abc\n",
    "    elif sum_abc > 21:\n",
    "        if a == 11 or b==11 or c==11:\n",
    "            return sum_abc-10\n",
    "        else:\n",
    "            pass\n",
    "    return 'BUST'"
   ]
  },
  {
   "cell_type": "code",
   "execution_count": 152,
   "id": "5f9f032d",
   "metadata": {},
   "outputs": [
    {
     "data": {
      "text/plain": [
       "18"
      ]
     },
     "execution_count": 152,
     "metadata": {},
     "output_type": "execute_result"
    }
   ],
   "source": [
    "blackjack(5,6,7)"
   ]
  },
  {
   "cell_type": "code",
   "execution_count": 153,
   "id": "b11d81f7",
   "metadata": {},
   "outputs": [
    {
     "data": {
      "text/plain": [
       "19"
      ]
     },
     "execution_count": 153,
     "metadata": {},
     "output_type": "execute_result"
    }
   ],
   "source": [
    "blackjack(9,9,11)"
   ]
  },
  {
   "cell_type": "code",
   "execution_count": 154,
   "id": "30a8b225",
   "metadata": {},
   "outputs": [
    {
     "data": {
      "text/plain": [
       "'BUST'"
      ]
     },
     "execution_count": 154,
     "metadata": {},
     "output_type": "execute_result"
    }
   ],
   "source": [
    "blackjack(9,9,9)"
   ]
  },
  {
   "cell_type": "markdown",
   "id": "52a344f5",
   "metadata": {},
   "source": [
    "---"
   ]
  },
  {
   "cell_type": "markdown",
   "id": "bdad07f4",
   "metadata": {},
   "source": [
    "# exercise-10"
   ]
  },
  {
   "cell_type": "code",
   "execution_count": 156,
   "id": "3b36458b",
   "metadata": {},
   "outputs": [],
   "source": [
    "# SUMMER OF '69: Return the sum of the numbers in the array, except ignore sections of numbers starting\n",
    "# with a 6 and extending to the next 9 \n",
    "# (every 6 will be followed by at least one 9). Return 0 for no numbers.\n",
    "# summer_69([1, 3, 5]) --> 9\n",
    "# summer_69([4, 5, 6, 7, 8, 9]) --> 9\n",
    "# summer_69([2, 1, 6, 9, 11]) --> 14"
   ]
  },
  {
   "cell_type": "code",
   "execution_count": 161,
   "id": "6b461b71",
   "metadata": {},
   "outputs": [
    {
     "ename": "SyntaxError",
     "evalue": "invalid syntax (2394963594.py, line 7)",
     "output_type": "error",
     "traceback": [
      "\u001b[0;36m  File \u001b[0;32m\"/tmp/ipykernel_35122/2394963594.py\"\u001b[0;36m, line \u001b[0;32m7\u001b[0m\n\u001b[0;31m    return sum_69 += arr[i]\u001b[0m\n\u001b[0m                  ^\u001b[0m\n\u001b[0;31mSyntaxError\u001b[0m\u001b[0;31m:\u001b[0m invalid syntax\n"
     ]
    }
   ],
   "source": [
    "def summer_69(arr):\n",
    "    sum_69 = 0\n",
    "    for i in range(len(arr)-1):\n",
    "        if arr[i] == 6:\n",
    "            pass\n",
    "        else:\n",
    "            return sum_69 += arr[i]\n",
    "                "
   ]
  },
  {
   "cell_type": "code",
   "execution_count": 158,
   "id": "44b6648b",
   "metadata": {},
   "outputs": [],
   "source": [
    "summer_69([1, 3, 5])"
   ]
  },
  {
   "cell_type": "code",
   "execution_count": 167,
   "id": "6a0e2e00",
   "metadata": {},
   "outputs": [],
   "source": [
    "def summer_69(arr):\n",
    "    iterate = iter(arr)\n",
    "    sum_total = 0\n",
    "    for i in iterate:\n",
    "        if i == 6:\n",
    "             9 in iterate\n",
    "        else:\n",
    "            sum_total += i\n",
    "    return sum_total"
   ]
  },
  {
   "cell_type": "code",
   "execution_count": 163,
   "id": "bf9af3aa",
   "metadata": {},
   "outputs": [
    {
     "data": {
      "text/plain": [
       "9"
      ]
     },
     "execution_count": 163,
     "metadata": {},
     "output_type": "execute_result"
    }
   ],
   "source": [
    "summer_69([1, 3, 5])"
   ]
  },
  {
   "cell_type": "code",
   "execution_count": 164,
   "id": "a12b66eb",
   "metadata": {},
   "outputs": [
    {
     "data": {
      "text/plain": [
       "9"
      ]
     },
     "execution_count": 164,
     "metadata": {},
     "output_type": "execute_result"
    }
   ],
   "source": [
    "summer_69([4, 5, 6, 7, 8, 9])\n"
   ]
  },
  {
   "cell_type": "code",
   "execution_count": 168,
   "id": "90b4fd49",
   "metadata": {},
   "outputs": [
    {
     "data": {
      "text/plain": [
       "14"
      ]
     },
     "execution_count": 168,
     "metadata": {},
     "output_type": "execute_result"
    }
   ],
   "source": [
    "summer_69([2, 1, 6, 9, 11])"
   ]
  },
  {
   "cell_type": "markdown",
   "id": "2cede39b",
   "metadata": {},
   "source": [
    "---"
   ]
  },
  {
   "cell_type": "markdown",
   "id": "3c5593b2",
   "metadata": {},
   "source": [
    "# CHALLENGING PROBLEMS\n"
   ]
  },
  {
   "cell_type": "markdown",
   "id": "a79da7e5",
   "metadata": {},
   "source": [
    "# exercise-11"
   ]
  },
  {
   "cell_type": "code",
   "execution_count": 169,
   "id": "29603839",
   "metadata": {},
   "outputs": [],
   "source": [
    "# SPY GAME: Write a function that takes in a list of integers and returns True if it contains 007 in order\n",
    "#  spy_game([1,2,4,0,0,7,5]) --> True\n",
    "#  spy_game([1,0,2,4,0,5,7]) --> True\n",
    "#  spy_game([1,7,2,0,4,5,0]) --> False"
   ]
  },
  {
   "cell_type": "code",
   "execution_count": 186,
   "id": "1a8751dc",
   "metadata": {},
   "outputs": [],
   "source": [
    "def spy_game(num):\n",
    "    for i in range(0,len(num)-1):\n",
    "        if num[i] == 0 and num[i+1] == 0 and num[i+2]==7:\n",
    "            return True\n",
    "        return False"
   ]
  },
  {
   "cell_type": "code",
   "execution_count": 184,
   "id": "ab91c640",
   "metadata": {},
   "outputs": [
    {
     "data": {
      "text/plain": [
       "True"
      ]
     },
     "execution_count": 184,
     "metadata": {},
     "output_type": "execute_result"
    }
   ],
   "source": [
    "spy_game([1,2,4,0,0,7,5])"
   ]
  },
  {
   "cell_type": "code",
   "execution_count": 178,
   "id": "4d7a5407",
   "metadata": {},
   "outputs": [
    {
     "data": {
      "text/plain": [
       "False"
      ]
     },
     "execution_count": 178,
     "metadata": {},
     "output_type": "execute_result"
    }
   ],
   "source": [
    "spy_game([1,7,2,0,4,5,0])"
   ]
  },
  {
   "cell_type": "code",
   "execution_count": 185,
   "id": "79cc9b43",
   "metadata": {},
   "outputs": [
    {
     "data": {
      "text/plain": [
       "False"
      ]
     },
     "execution_count": 185,
     "metadata": {},
     "output_type": "execute_result"
    }
   ],
   "source": [
    "spy_game([1,0,2,4,0,5,7])"
   ]
  },
  {
   "cell_type": "code",
   "execution_count": 182,
   "id": "61ef50c4",
   "metadata": {},
   "outputs": [],
   "source": [
    "def spy_game(nums):\n",
    "    for i in range(0,len(nums)):\n",
    "        if nums[i] == 0:\n",
    "            for x in range(i+1,len(nums)):\n",
    "                if nums[x] == 0:\n",
    "                    for y in range(x+1,len(nums)):\n",
    "                        if nums[y] == 7:\n",
    "                            return True\n",
    "                else:\n",
    "                    return False"
   ]
  },
  {
   "cell_type": "code",
   "execution_count": null,
   "id": "6a88e262",
   "metadata": {},
   "outputs": [],
   "source": []
  }
 ],
 "metadata": {
  "kernelspec": {
   "display_name": "Python 3 (ipykernel)",
   "language": "python",
   "name": "python3"
  },
  "language_info": {
   "codemirror_mode": {
    "name": "ipython",
    "version": 3
   },
   "file_extension": ".py",
   "mimetype": "text/x-python",
   "name": "python",
   "nbconvert_exporter": "python",
   "pygments_lexer": "ipython3",
   "version": "3.9.13"
  }
 },
 "nbformat": 4,
 "nbformat_minor": 5
}
