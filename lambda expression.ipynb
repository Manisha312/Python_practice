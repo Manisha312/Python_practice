{
 "cells": [
  {
   "cell_type": "markdown",
   "id": "e6f91ead",
   "metadata": {},
   "source": [
    "# lambda expressions , map and filter functions"
   ]
  },
  {
   "cell_type": "markdown",
   "id": "482008d1",
   "metadata": {},
   "source": [
    "# map"
   ]
  },
  {
   "cell_type": "code",
   "execution_count": 5,
   "id": "cf6ea128",
   "metadata": {},
   "outputs": [],
   "source": [
    "def splicer(mystring):\n",
    "    if len(mystring)%2 == 0:\n",
    "        return 'EVEN'\n",
    "    else:\n",
    "        return mystring[0]"
   ]
  },
  {
   "cell_type": "code",
   "execution_count": 28,
   "id": "1492c844",
   "metadata": {},
   "outputs": [],
   "source": [
    "myname = ['Manisha','Subh','Sashi']"
   ]
  },
  {
   "cell_type": "code",
   "execution_count": 29,
   "id": "7880bb8e",
   "metadata": {},
   "outputs": [
    {
     "data": {
      "text/plain": [
       "['M', 'EVEN', 'S']"
      ]
     },
     "execution_count": 29,
     "metadata": {},
     "output_type": "execute_result"
    }
   ],
   "source": [
    "list(map(splicer,myname))"
   ]
  },
  {
   "cell_type": "markdown",
   "id": "b8339060",
   "metadata": {},
   "source": [
    "\n",
    "# filter"
   ]
  },
  {
   "cell_type": "code",
   "execution_count": 9,
   "id": "68c7b6c9",
   "metadata": {},
   "outputs": [],
   "source": [
    "def check_even(num):\n",
    "    return num%2 == 0\n",
    "    "
   ]
  },
  {
   "cell_type": "code",
   "execution_count": 21,
   "id": "8ff9e57d",
   "metadata": {},
   "outputs": [],
   "source": [
    "mynum = [1,2,3,4,5,6,7,8]"
   ]
  },
  {
   "cell_type": "code",
   "execution_count": 11,
   "id": "399bd904",
   "metadata": {},
   "outputs": [
    {
     "data": {
      "text/plain": [
       "[2, 4]"
      ]
     },
     "execution_count": 11,
     "metadata": {},
     "output_type": "execute_result"
    }
   ],
   "source": [
    "list(filter(check_even,mynum))"
   ]
  },
  {
   "cell_type": "code",
   "execution_count": 12,
   "id": "98a55a78",
   "metadata": {},
   "outputs": [
    {
     "name": "stdout",
     "output_type": "stream",
     "text": [
      "2\n",
      "4\n"
     ]
    }
   ],
   "source": [
    "for n in filter(check_even,mynum):\n",
    "    print(n)"
   ]
  },
  {
   "cell_type": "markdown",
   "id": "d21e17f7",
   "metadata": {},
   "source": [
    "# lambda expression"
   ]
  },
  {
   "cell_type": "code",
   "execution_count": 13,
   "id": "6c7878fe",
   "metadata": {},
   "outputs": [],
   "source": [
    "def square(num):\n",
    "    res = num ** 2\n",
    "    return res"
   ]
  },
  {
   "cell_type": "code",
   "execution_count": 14,
   "id": "4dab14bb",
   "metadata": {},
   "outputs": [
    {
     "data": {
      "text/plain": [
       "9"
      ]
     },
     "execution_count": 14,
     "metadata": {},
     "output_type": "execute_result"
    }
   ],
   "source": [
    "square(3)"
   ]
  },
  {
   "cell_type": "code",
   "execution_count": 15,
   "id": "7dfafd9f",
   "metadata": {},
   "outputs": [],
   "source": [
    "def square(num):\n",
    "    return num **2"
   ]
  },
  {
   "cell_type": "code",
   "execution_count": 16,
   "id": "7a9efdec",
   "metadata": {},
   "outputs": [],
   "source": [
    "def square(num):return num **2"
   ]
  },
  {
   "cell_type": "code",
   "execution_count": 18,
   "id": "08852e18",
   "metadata": {},
   "outputs": [],
   "source": [
    "square = lambda num : num **2  #lambda expression"
   ]
  },
  {
   "cell_type": "code",
   "execution_count": 19,
   "id": "11d996d1",
   "metadata": {},
   "outputs": [
    {
     "data": {
      "text/plain": [
       "9"
      ]
     },
     "execution_count": 19,
     "metadata": {},
     "output_type": "execute_result"
    }
   ],
   "source": [
    "square(3)"
   ]
  },
  {
   "cell_type": "markdown",
   "id": "46352646",
   "metadata": {},
   "source": [
    "---"
   ]
  },
  {
   "cell_type": "code",
   "execution_count": 27,
   "id": "341ff05d",
   "metadata": {},
   "outputs": [
    {
     "data": {
      "text/plain": [
       "<map at 0x7f6a60d68580>"
      ]
     },
     "execution_count": 27,
     "metadata": {},
     "output_type": "execute_result"
    }
   ],
   "source": [
    "map(lambda num : num ** 2, mynum)"
   ]
  },
  {
   "cell_type": "code",
   "execution_count": 22,
   "id": "e4ddbf47",
   "metadata": {},
   "outputs": [
    {
     "data": {
      "text/plain": [
       "[1, 4, 9, 16, 25, 36, 49, 64]"
      ]
     },
     "execution_count": 22,
     "metadata": {},
     "output_type": "execute_result"
    }
   ],
   "source": [
    "list(map(lambda num : num ** 2, mynum))"
   ]
  },
  {
   "cell_type": "code",
   "execution_count": 23,
   "id": "ebcab7dc",
   "metadata": {},
   "outputs": [],
   "source": [
    "#converting check_even into lambda expression"
   ]
  },
  {
   "cell_type": "code",
   "execution_count": 24,
   "id": "54fe47ce",
   "metadata": {},
   "outputs": [
    {
     "data": {
      "text/plain": [
       "<function __main__.<lambda>(num)>"
      ]
     },
     "execution_count": 24,
     "metadata": {},
     "output_type": "execute_result"
    }
   ],
   "source": [
    "lambda num:num%2 == 0\n",
    "    "
   ]
  },
  {
   "cell_type": "code",
   "execution_count": 25,
   "id": "a21156d5",
   "metadata": {},
   "outputs": [
    {
     "data": {
      "text/plain": [
       "<filter at 0x7f6a60c63b80>"
      ]
     },
     "execution_count": 25,
     "metadata": {},
     "output_type": "execute_result"
    }
   ],
   "source": [
    "filter(lambda num : num%2 == 0, mynum)"
   ]
  },
  {
   "cell_type": "code",
   "execution_count": 26,
   "id": "ce082cd2",
   "metadata": {},
   "outputs": [
    {
     "data": {
      "text/plain": [
       "[2, 4, 6, 8]"
      ]
     },
     "execution_count": 26,
     "metadata": {},
     "output_type": "execute_result"
    }
   ],
   "source": [
    "list(filter(lambda num: num%2 ==0,mynum))"
   ]
  },
  {
   "cell_type": "code",
   "execution_count": 30,
   "id": "19378d5c",
   "metadata": {},
   "outputs": [
    {
     "data": {
      "text/plain": [
       "['Manisha', 'Subh', 'Sashi']"
      ]
     },
     "execution_count": 30,
     "metadata": {},
     "output_type": "execute_result"
    }
   ],
   "source": [
    "mystring"
   ]
  },
  {
   "cell_type": "code",
   "execution_count": 32,
   "id": "610279b7",
   "metadata": {},
   "outputs": [
    {
     "data": {
      "text/plain": [
       "['M', 'S', 'S']"
      ]
     },
     "execution_count": 32,
     "metadata": {},
     "output_type": "execute_result"
    }
   ],
   "source": [
    "list(map(lambda name: name[0], mystring))"
   ]
  },
  {
   "cell_type": "code",
   "execution_count": 33,
   "id": "42895b03",
   "metadata": {},
   "outputs": [
    {
     "data": {
      "text/plain": [
       "['ahsinaM', 'hbuS', 'ihsaS']"
      ]
     },
     "execution_count": 33,
     "metadata": {},
     "output_type": "execute_result"
    }
   ],
   "source": [
    "list(map(lambda name: name[::-1], mystring))"
   ]
  },
  {
   "cell_type": "code",
   "execution_count": null,
   "id": "83ec3792",
   "metadata": {},
   "outputs": [],
   "source": []
  }
 ],
 "metadata": {
  "kernelspec": {
   "display_name": "Python 3 (ipykernel)",
   "language": "python",
   "name": "python3"
  },
  "language_info": {
   "codemirror_mode": {
    "name": "ipython",
    "version": 3
   },
   "file_extension": ".py",
   "mimetype": "text/x-python",
   "name": "python",
   "nbconvert_exporter": "python",
   "pygments_lexer": "ipython3",
   "version": "3.9.13"
  }
 },
 "nbformat": 4,
 "nbformat_minor": 5
}
