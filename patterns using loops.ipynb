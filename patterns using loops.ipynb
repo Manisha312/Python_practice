{
 "cells": [
  {
   "cell_type": "markdown",
   "id": "f64cb533",
   "metadata": {},
   "source": [
    "# Pattern printing in Python"
   ]
  },
  {
   "cell_type": "code",
   "execution_count": 19,
   "id": "2c4c6ad9",
   "metadata": {},
   "outputs": [
    {
     "name": "stdout",
     "output_type": "stream",
     "text": [
      "* * * * * \n",
      "* * * * * \n",
      "* * * * * \n",
      "* * * * * \n",
      "* * * * * \n"
     ]
    }
   ],
   "source": [
    "for i in range(0,5):\n",
    "    for j in range(0,5):\n",
    "        print(\"*\",end = \" \")\n",
    "    print()"
   ]
  },
  {
   "cell_type": "code",
   "execution_count": 2,
   "id": "cc8668e5",
   "metadata": {},
   "outputs": [
    {
     "name": "stdout",
     "output_type": "stream",
     "text": [
      "* \n",
      "* * \n",
      "* * * \n",
      "* * * * \n",
      "* * * * * \n"
     ]
    }
   ],
   "source": [
    "for i in range(0,5):\n",
    "    for j in range(0,i+1):\n",
    "        print(\"*\",end = \" \")\n",
    "    print()"
   ]
  },
  {
   "cell_type": "code",
   "execution_count": 16,
   "id": "ede2d4b5",
   "metadata": {},
   "outputs": [
    {
     "name": "stdout",
     "output_type": "stream",
     "text": [
      "1 \n",
      "2 2 \n",
      "3 3 3 \n",
      "4 4 4 4 \n",
      "5 5 5 5 5 \n"
     ]
    }
   ],
   "source": [
    "for i in range(0,5):\n",
    "    for j in range(0,i+1):\n",
    "        print(i+1,end = \" \")\n",
    "    print()"
   ]
  },
  {
   "cell_type": "code",
   "execution_count": 18,
   "id": "c82b52c5",
   "metadata": {},
   "outputs": [
    {
     "name": "stdout",
     "output_type": "stream",
     "text": [
      "1 \n",
      "1 2 \n",
      "1 2 3 \n",
      "1 2 3 4 \n",
      "1 2 3 4 5 \n"
     ]
    }
   ],
   "source": [
    "for i in range(0,5):\n",
    "    for j in range(0,i+1):\n",
    "        print(j+1,end = \" \")\n",
    "    print()"
   ]
  },
  {
   "cell_type": "code",
   "execution_count": 22,
   "id": "fd767c7d",
   "metadata": {},
   "outputs": [
    {
     "name": "stdout",
     "output_type": "stream",
     "text": [
      "* * * * * \n",
      "* * * * \n",
      "* * * \n",
      "* * \n",
      "* \n"
     ]
    }
   ],
   "source": [
    "n=5\n",
    "for i in range(0,n):\n",
    "    for j in range(0,n-i):\n",
    "        print(\"* \",end = \"\")\n",
    "    print()"
   ]
  },
  {
   "cell_type": "code",
   "execution_count": 27,
   "id": "79e30b13",
   "metadata": {},
   "outputs": [
    {
     "name": "stdout",
     "output_type": "stream",
     "text": [
      "12345\n",
      "1234\n",
      "123\n",
      "12\n",
      "1\n"
     ]
    }
   ],
   "source": [
    "for i in range(0,n):\n",
    "    for j in range(0,n-i):\n",
    "        print(j+1,end = \"\")\n",
    "    print()\n",
    "    "
   ]
  },
  {
   "cell_type": "code",
   "execution_count": 28,
   "id": "dc18c711",
   "metadata": {},
   "outputs": [
    {
     "name": "stdout",
     "output_type": "stream",
     "text": [
      "1 \n",
      "2 3 \n",
      "4 5 6 \n",
      "7 8 9 10 \n",
      "11 12 13 14 15 \n"
     ]
    }
   ],
   "source": [
    "num = 1\n",
    "for i in range(0,n):\n",
    "    for j in range(0,i+1):\n",
    "        print(num,end =\" \")\n",
    "        num += 1\n",
    "    print()"
   ]
  },
  {
   "cell_type": "code",
   "execution_count": 112,
   "id": "dc70e2fc",
   "metadata": {},
   "outputs": [
    {
     "name": "stdout",
     "output_type": "stream",
     "text": [
      "    *\n",
      "   **\n",
      "  ***\n",
      " ****\n",
      "*****\n"
     ]
    }
   ],
   "source": [
    "k = n-1\n",
    "for i in range(0,n):\n",
    "    for j in range(0,k):\n",
    "        print(end = \" \")\n",
    "    k = k-1\n",
    "    for j in range(0,i+1):\n",
    "        print(\"*\",end=\"\")\n",
    "    print()"
   ]
  },
  {
   "cell_type": "code",
   "execution_count": 46,
   "id": "0669fafd",
   "metadata": {},
   "outputs": [
    {
     "name": "stdout",
     "output_type": "stream",
     "text": [
      "    *\r\n",
      "   ***\r\n",
      "  *****\r\n",
      " *******\r\n",
      "*********\r\n"
     ]
    }
   ],
   "source": [
    "n=5\n",
    "k = n-1\n",
    "for i in range(0,n):\n",
    "    for j in range(0,k):\n",
    "        print(end = \" \")\n",
    "    k = k-1\n",
    "    for j in range(0,i+1):\n",
    "        print(\"*\",end=\"\")\n",
    "    for j in range(1,i+1):\n",
    "        print(\"*\",end=\"\")\n",
    "    print(\"\\r\")\n",
    "    "
   ]
  },
  {
   "cell_type": "code",
   "execution_count": 55,
   "id": "a06256b8",
   "metadata": {},
   "outputs": [
    {
     "name": "stdout",
     "output_type": "stream",
     "text": [
      " *********\n",
      "  *******\n",
      "   *****\n",
      "    ***\n",
      "     *\n"
     ]
    }
   ],
   "source": [
    "n = 5\n",
    "k = 0\n",
    "for i in range(0,n):\n",
    "    for j in range(0,i+1):\n",
    "        print(end = \" \")\n",
    "    k += 1\n",
    "    for j in range(0,n-i):\n",
    "        print(\"*\",end = \"\")\n",
    "    for j in range(1,n-i):\n",
    "        print(\"*\",end = \"\")\n",
    "    print()\n",
    "        "
   ]
  },
  {
   "cell_type": "code",
   "execution_count": 57,
   "id": "1b38db59",
   "metadata": {},
   "outputs": [
    {
     "name": "stdout",
     "output_type": "stream",
     "text": [
      "    *\r\n",
      "   ***\r\n",
      "  *****\r\n",
      " *******\r\n",
      "*********\r\n",
      "*********\n",
      " *******\n",
      "  *****\n",
      "   ***\n",
      "    *\n"
     ]
    }
   ],
   "source": [
    "n=5\n",
    "k = n-1\n",
    "for i in range(0,n):\n",
    "    for j in range(0,k):\n",
    "        print(end = \" \")\n",
    "    k = k-1\n",
    "    for j in range(0,i+1):\n",
    "        print(\"*\",end=\"\")\n",
    "    for j in range(1,i+1):\n",
    "        print(\"*\",end=\"\")\n",
    "    print(\"\\r\")\n",
    "n = 5\n",
    "k = 0\n",
    "for i in range(0,n):\n",
    "    for j in range(1,i+1):\n",
    "        print(end = \" \")\n",
    "    k += 1\n",
    "    for j in range(0,n-i):\n",
    "        print(\"*\",end = \"\")\n",
    "    for j in range(1,n-i):\n",
    "        print(\"*\",end = \"\")\n",
    "    print()\n",
    "        "
   ]
  },
  {
   "cell_type": "code",
   "execution_count": 59,
   "id": "d63c0e85",
   "metadata": {},
   "outputs": [
    {
     "ename": "IndentationError",
     "evalue": "unexpected indent (3492003077.py, line 3)",
     "output_type": "error",
     "traceback": [
      "\u001b[0;36m  File \u001b[0;32m\"/tmp/ipykernel_11038/3492003077.py\"\u001b[0;36m, line \u001b[0;32m3\u001b[0m\n\u001b[0;31m    for i in range(0,N):\u001b[0m\n\u001b[0m    ^\u001b[0m\n\u001b[0;31mIndentationError\u001b[0m\u001b[0;31m:\u001b[0m unexpected indent\n"
     ]
    }
   ],
   "source": []
  },
  {
   "cell_type": "code",
   "execution_count": 60,
   "id": "2131127f",
   "metadata": {},
   "outputs": [
    {
     "name": "stdout",
     "output_type": "stream",
     "text": [
      "    * \n",
      "   * * \n",
      "  * * * \n",
      " * * * * \n",
      "* * * * * \n",
      "* * * * * \n",
      " * * * * \n",
      "  * * * \n",
      "   * * \n",
      "    * \n"
     ]
    }
   ],
   "source": [
    "n=5\n",
    "k = n-1\n",
    "for i in range(0,n):\n",
    "    for j in range(0,k):\n",
    "        print(end = \" \")\n",
    "    k = k-1\n",
    "    for j in range(0,i+1):\n",
    "        print(\"* \",end=\"\")\n",
    "    print()\n",
    "n = 5\n",
    "k = 0\n",
    "for i in range(0,n):\n",
    "    for j in range(1,i+1):\n",
    "        print(end = \" \")\n",
    "    k += 1\n",
    "    for j in range(0,n-i):\n",
    "        print(\"* \",end = \"\")\n",
    "    print()"
   ]
  },
  {
   "cell_type": "code",
   "execution_count": 75,
   "id": "3a171004",
   "metadata": {},
   "outputs": [
    {
     "name": "stdout",
     "output_type": "stream",
     "text": [
      "\n",
      "*\n",
      "**\n",
      "***\n",
      "****\n",
      "*****\n",
      "****\n",
      "***\n",
      "**\n",
      "*\n"
     ]
    }
   ],
   "source": [
    "n=5\n",
    "for i in range(0,n):\n",
    "    for j in range(0,i):\n",
    "        print(\"*\",end = \"\")\n",
    "    print()\n",
    "for i in range(0,n):\n",
    "    for j in range(0,n-i):\n",
    "        print(\"*\",end= \"\")\n",
    "    print()"
   ]
  },
  {
   "cell_type": "code",
   "execution_count": 80,
   "id": "64299383",
   "metadata": {},
   "outputs": [
    {
     "name": "stdout",
     "output_type": "stream",
     "text": [
      "* \n",
      "* * \n",
      "* * * \n",
      "* * * * \n",
      "* * * * * \n",
      "* * * * \n",
      "* * * \n",
      "* * \n",
      "* \n"
     ]
    }
   ],
   "source": [
    "        for i in range(0,N):\n",
    "            for j in range(0,i+1):\n",
    "                print(\"* \",end = \"\")\n",
    "            print()\n",
    "        for i in range(1,N):\n",
    "            for j in range(0,N-i):\n",
    "                print(\"* \",end= \"\")\n",
    "            print()"
   ]
  },
  {
   "cell_type": "code",
   "execution_count": 43,
   "id": "3fa04b82",
   "metadata": {},
   "outputs": [
    {
     "name": "stdout",
     "output_type": "stream",
     "text": [
      "1                 1 \n",
      "1 2             2 1 \n",
      "1 2 3         3 2 1 \n",
      "1 2 3 4     4 3 2 1 \n",
      "1 2 3 4 5 5 4 3 2 1 \n"
     ]
    }
   ],
   "source": [
    "N=5\n",
    "k = N-1\n",
    "for i in range(1,N+1):\n",
    "    for j in range(1,i+1):\n",
    "        print(j,end = \" \")\n",
    "    for j in range(0,N-i):\n",
    "        print(\" \",end = \" \")\n",
    "    for j in range(0,k):\n",
    "        print(\" \",end = \" \")\n",
    "    k = k-1\n",
    "    for j in range(i,0,-1):\n",
    "        print(j,end = \" \")\n",
    "    print()"
   ]
  },
  {
   "cell_type": "code",
   "execution_count": 126,
   "id": "7775dc41",
   "metadata": {},
   "outputs": [
    {
     "name": "stdout",
     "output_type": "stream",
     "text": [
      "A\n",
      "BB\n",
      "CCC\n",
      "DDDD\n",
      "EEEEE\n"
     ]
    }
   ],
   "source": [
    "lit = 65\n",
    "for i in range(0,n):\n",
    "    for j in range(0,i+1):\n",
    "        print(chr(lit),end = \"\") \n",
    "    print()\n",
    "    lit +=1\n"
   ]
  },
  {
   "cell_type": "code",
   "execution_count": 154,
   "id": "ffacb727",
   "metadata": {},
   "outputs": [
    {
     "name": "stdout",
     "output_type": "stream",
     "text": [
      "A\n",
      "AB\n",
      "ABC\n",
      "ABCD\n",
      "ABCDE\n"
     ]
    }
   ],
   "source": [
    "lit = 65\n",
    "for i in range(0,n):\n",
    "    for j in range(0,i+1):\n",
    "        print(chr(j+lit),end = \"\") \n",
    "    print()\n",
    "\n",
    "\n"
   ]
  },
  {
   "cell_type": "code",
   "execution_count": 80,
   "id": "6c8147f3",
   "metadata": {},
   "outputs": [
    {
     "name": "stdout",
     "output_type": "stream",
     "text": [
      "E\n",
      "ED\n",
      "EDC\n",
      "EDCB\n",
      "EDCBA\n"
     ]
    }
   ],
   "source": [
    "lit = 69\n",
    "for i in range(0,n+1):\n",
    "    for j in range(0,i+1):\n",
    "        print(chr(lit-j),end = \"\")\n",
    "    print()"
   ]
  },
  {
   "cell_type": "code",
   "execution_count": 269,
   "id": "b1bb8f34",
   "metadata": {},
   "outputs": [
    {
     "name": "stdout",
     "output_type": "stream",
     "text": [
      "ABCDE\n",
      "ABCD\n",
      "ABC\n",
      "AB\n",
      "A\n"
     ]
    }
   ],
   "source": [
    "for i in range(0,n):\n",
    "    for j in range(0,n-i):\n",
    "        print(chr(j+lit),end = \"\")\n",
    "    print()"
   ]
  },
  {
   "cell_type": "code",
   "execution_count": 22,
   "id": "5162bda8",
   "metadata": {},
   "outputs": [
    {
     "name": "stdout",
     "output_type": "stream",
     "text": [
      "   A\n",
      "  ABA\n",
      " ABCBA\n",
      "ABCDCBA\n"
     ]
    }
   ],
   "source": [
    "lit = 64\n",
    "N=4\n",
    "for i in range(1,N+1):\n",
    "    for j in range(1,N+1-i):\n",
    "        print(end = \" \")\n",
    "    for j in range(1,i+1):\n",
    "        print(chr(j+lit),end = \"\")\n",
    "# for i in range(0,N):\n",
    "    for j in range(i-1,0,-1):\n",
    "        print(chr(lit+j),end = \"\")\n",
    "    print()"
   ]
  },
  {
   "cell_type": "code",
   "execution_count": 18,
   "id": "d5178513",
   "metadata": {},
   "outputs": [
    {
     "name": "stdout",
     "output_type": "stream",
     "text": [
      "   A\n",
      "  ABA\n",
      " ABCBA\n",
      "ABCDCBA\n"
     ]
    }
   ],
   "source": [
    "         a=64\n",
    "\n",
    "         for i in range(1,N+1):\n",
    "            for j in range(1, N+1-i):\n",
    "                print(' ', end='')\n",
    "            for j in range(1,i+1):\n",
    "                print(chr(a+j), end='')\n",
    "            # for decreasing pattern \n",
    "            for j in range(i-1,0,-1):\n",
    "                print(chr(a+j), end='')  \n",
    "            print()\n",
    "       \n",
    "            "
   ]
  },
  {
   "cell_type": "code",
   "execution_count": 218,
   "id": "7fe54403",
   "metadata": {},
   "outputs": [
    {
     "name": "stdout",
     "output_type": "stream",
     "text": [
      "*        *\n",
      "**      **\n",
      "***    ***\n",
      "****  ****\n",
      "**********\n",
      "****  ****\n",
      "***    ***\n",
      "**      **\n",
      "*        *\n"
     ]
    }
   ],
   "source": [
    "k = n-1\n",
    "for i in range(0,N+1):\n",
    "    for j in range(0,i+1):\n",
    "        print(\"*\",end = \"\")\n",
    "    for j in range(0,N-i):\n",
    "        print(end = \" \")\n",
    "    for j in range(0,k):\n",
    "        print(end = \" \")\n",
    "    k = k-1\n",
    "    for j in range(0,i+1):\n",
    "        print(\"*\",end = \"\")\n",
    "    print()\n",
    "k=0\n",
    "for i in range(0,N):\n",
    "    for j in range(N-i):\n",
    "        print(\"*\",end = \"\")\n",
    "    for j in range(0,i+1):\n",
    "        print(end = \" \")\n",
    "    k += 1\n",
    "    for j in range(0,i+1):\n",
    "        print(end = \" \")\n",
    "    k += 1\n",
    "    for j in range(N-i):\n",
    "        print(\"*\",end = \"\")\n",
    "    print()"
   ]
  },
  {
   "cell_type": "code",
   "execution_count": 254,
   "id": "eccaf7c6",
   "metadata": {},
   "outputs": [
    {
     "name": "stdout",
     "output_type": "stream",
     "text": [
      "**********\n",
      "****  ****\n",
      "***    ***\n",
      "**      **\n",
      "*        *\n",
      "*        *\n",
      "**      **\n",
      "***    ***\n",
      "****  ****\n",
      "**********\n"
     ]
    }
   ],
   "source": [
    "k=0\n",
    "N=5\n",
    "for i in range(0,N):\n",
    "    for j in range(0,N-i):\n",
    "        print(\"*\",end = \"\")\n",
    "    for j in range(1,i+1):\n",
    "        print(end=\" \")\n",
    "        k=k+1\n",
    "    for j in range(1,i+1):\n",
    "        print(end=\" \")\n",
    "        k=k+1\n",
    "    for j in range(0,N-i):\n",
    "        print(\"*\",end = \"\")\n",
    "    print()\n",
    "k=N-1\n",
    "for i in range(0,N):\n",
    "    for j in range(0,i+1):\n",
    "        print(\"*\",end = \"\")\n",
    "    for j in range(0,N-i-1):\n",
    "        print(end = \" \")\n",
    "    for j in range(0,k):\n",
    "        print(end = \" \")\n",
    "    k = k-1\n",
    "    for j in range(0,i+1):\n",
    "        print(\"*\",end = \"\")\n",
    "    print()\n",
    "    \n"
   ]
  },
  {
   "cell_type": "code",
   "execution_count": 20,
   "id": "b13c5d78",
   "metadata": {},
   "outputs": [
    {
     "name": "stdout",
     "output_type": "stream",
     "text": [
      "4 4 4 4 4 4 4 4 4 \n",
      "4 3 3 3 3 3 3 3 4 \n",
      "4 3 2 2 2 2 2 3 4 \n",
      "4 3 2 1 1 1 2 3 4 \n",
      "4 3 2 1 0 1 2 3 4 \n",
      "4 3 2 1 1 1 2 3 4 \n",
      "4 3 2 2 2 2 2 3 4 \n",
      "4 3 3 3 3 3 3 3 4 \n",
      "4 4 4 4 4 4 4 4 4 \n"
     ]
    }
   ],
   "source": [
    "# Python3 program for the above approach\n",
    "\n",
    "# Function to print the matrix filled\n",
    "# with rectangle pattern having center\n",
    "# coordinates are c1, c2\n",
    "\n",
    "\n",
    "def printRectPattern(c1, c2, n):\n",
    "\n",
    "\t# Iterate in the range[0, n-1]\n",
    "\tfor i in range(n*2-1):\n",
    "\t\t# Iterate in the range[0, n-1]\n",
    "\t\tfor j in range(n*2-1):\n",
    "\t\t\tprint(max(abs(c1 - i), abs(c2 - j)), end = \" \")\n",
    "\t\tprint(\"\")\n",
    "\n",
    "\n",
    "# Driver Code\n",
    "\n",
    "# Given Input\n",
    "c1 = 4\n",
    "c2 = 4\n",
    "n = 5\n",
    "\n",
    "# Function Call\n",
    "printRectPattern(c1, c2, n)\n"
   ]
  },
  {
   "cell_type": "code",
   "execution_count": 25,
   "id": "693f5acc",
   "metadata": {},
   "outputs": [
    {
     "name": "stdout",
     "output_type": "stream",
     "text": [
      "4 4 4 4 4 4 4 \n",
      "4 3 3 3 3 3 3 \n",
      "4 3 2 2 2 2 2 \n",
      "4 3 2 1 1 1 2 \n",
      "4 3 2 1 0 1 2 \n",
      "4 3 2 1 1 1 2 \n",
      "4 3 2 2 2 2 2 \n"
     ]
    }
   ],
   "source": [
    "c1=4\n",
    "c2=4\n",
    "n=4\n",
    "for i in range(n*2-1):\n",
    "    for j in range(n*2-1):\n",
    "        print(max(abs(c1 - i),abs(c2 - j)),end = \" \")\n",
    "    print(\"\")"
   ]
  },
  {
   "cell_type": "code",
   "execution_count": 28,
   "id": "878e506e",
   "metadata": {},
   "outputs": [
    {
     "name": "stdout",
     "output_type": "stream",
     "text": [
      "4 4 4 4 4 4 4 \n",
      "4 3 3 3 3 3 4 \n",
      "4 3 2 2 2 3 4 \n",
      "4 3 2 1 2 3 4 \n",
      "4 3 2 2 2 3 4 \n",
      "4 3 3 3 3 3 4 \n",
      "4 4 4 4 4 4 4 \n"
     ]
    }
   ],
   "source": [
    "n=4\n",
    "for i in range(1,n*2):\n",
    "    for j in range(1,n*2):\n",
    "        print(max(abs(n - i)+1 ,abs(n - j)+1),end = \" \")\n",
    "    print(\"\")"
   ]
  },
  {
   "cell_type": "code",
   "execution_count": 75,
   "id": "75a96663",
   "metadata": {},
   "outputs": [
    {
     "name": "stdout",
     "output_type": "stream",
     "text": [
      "****\n",
      "*  *\n",
      "*  *\n",
      "*  *\n",
      "****\n"
     ]
    }
   ],
   "source": [
    "for i in range(N+1):\n",
    "    for j in range(N):\n",
    "        if (0<i<N) and (0<j<N-1):\n",
    "            print(\" \",end = \"\")\n",
    "        else:\n",
    "            print(\"*\",end =\"\")\n",
    "    print()\n"
   ]
  },
  {
   "cell_type": "code",
   "execution_count": 62,
   "id": "e6ab4138",
   "metadata": {},
   "outputs": [
    {
     "name": "stdout",
     "output_type": "stream",
     "text": [
      "****\n",
      "*  *\n",
      "*  *\n",
      "****\n"
     ]
    }
   ],
   "source": [
    " for i in range(N):\n",
    "\n",
    "            for j in range(N):\n",
    "\n",
    "                if 0<i<N-1 and 0<j<N-1:\n",
    "\n",
    "                    print(\" \",end=\"\")\n",
    "\n",
    "                else:\n",
    "\n",
    "                    print(\"*\",end=\"\")\n",
    "\n",
    "            print()"
   ]
  },
  {
   "cell_type": "code",
   "execution_count": 85,
   "id": "543645a3",
   "metadata": {},
   "outputs": [
    {
     "name": "stdout",
     "output_type": "stream",
     "text": [
      "1 \n",
      "0 1 \n",
      "1 0 1 \n",
      "0 1 0 1 \n",
      "1 0 1 0 1 \n"
     ]
    }
   ],
   "source": [
    "#User function Template for python3\n",
    "        # Code here\n",
    "N=5\n",
    "for i in range(0,N):\n",
    "    for j in range(0,i+1):\n",
    "        if (i+j)%2 == 0:\n",
    "            print(1,end = \" \")\n",
    "        else:\n",
    "            print(0,end = \" \")\n",
    "    print()\n"
   ]
  },
  {
   "cell_type": "code",
   "execution_count": 3,
   "id": "7bab317a",
   "metadata": {},
   "outputs": [
    {
     "name": "stdout",
     "output_type": "stream",
     "text": [
      "64\n",
      "64\n",
      "64\n",
      "64\n",
      "64\n"
     ]
    }
   ],
   "source": [
    "n=5\n",
    "for i in range(0,n):\n",
    "    \n",
    "    "
   ]
  },
  {
   "cell_type": "code",
   "execution_count": 10,
   "id": "ec74ff72",
   "metadata": {},
   "outputs": [
    {
     "name": "stdout",
     "output_type": "stream",
     "text": [
      "   A\n",
      "  ABA\n",
      " ABCBA\n",
      "ABCDCBA\n"
     ]
    }
   ],
   "source": [
    "    N=4  \n",
    "    for i in range(0,N):\n",
    "\n",
    "            # spaces\n",
    "\n",
    "            for j in range(0,N-i-1):\n",
    "\n",
    "                print(\" \",end=\"\")\n",
    "\n",
    "            x=(2*i)+1\n",
    "\n",
    "            z=65\n",
    "\n",
    "            for j in range(0,x):\n",
    "\n",
    "                if j<=x/2:\n",
    "\n",
    "                    print(chr(z),end=\"\")\n",
    "\n",
    "                    z+=1\n",
    "\n",
    "                else:\n",
    "\n",
    "                    z-=1\n",
    "\n",
    "                    print(chr(z-1),end=\"\")\n",
    "\n",
    "            print()"
   ]
  },
  {
   "cell_type": "code",
   "execution_count": null,
   "id": "e850b144",
   "metadata": {},
   "outputs": [],
   "source": []
  }
 ],
 "metadata": {
  "kernelspec": {
   "display_name": "Python 3 (ipykernel)",
   "language": "python",
   "name": "python3"
  },
  "language_info": {
   "codemirror_mode": {
    "name": "ipython",
    "version": 3
   },
   "file_extension": ".py",
   "mimetype": "text/x-python",
   "name": "python",
   "nbconvert_exporter": "python",
   "pygments_lexer": "ipython3",
   "version": "3.9.13"
  }
 },
 "nbformat": 4,
 "nbformat_minor": 5
}
