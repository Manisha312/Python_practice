{
 "cells": [
  {
   "cell_type": "markdown",
   "id": "27c013db",
   "metadata": {},
   "source": [
    "# 1.Python program to remove given character from String."
   ]
  },
  {
   "cell_type": "markdown",
   "id": "51029a77",
   "metadata": {},
   "source": [
    "# a). Using replace() method b). Using translate() method"
   ]
  },
  {
   "cell_type": "code",
   "execution_count": 4,
   "id": "667fe36d",
   "metadata": {},
   "outputs": [
    {
     "name": "stdout",
     "output_type": "stream",
     "text": [
      "Enter a stringManisha\n",
      "Enter character you want to removea\n",
      "M nish \n"
     ]
    }
   ],
   "source": [
    "#a using replace() method\n",
    "\n",
    "\n",
    "def remove_char(s1,s2):\n",
    "    print(s1.replace(s2, ' '))\n",
    "\n",
    "text1 = input(\"Enter a string: \")\n",
    "text2 = input(\"Enter character you want to remove: \")\n",
    "remove_char(text1,text2)"
   ]
  },
  {
   "cell_type": "code",
   "execution_count": 5,
   "id": "99637853",
   "metadata": {},
   "outputs": [
    {
     "name": "stdout",
     "output_type": "stream",
     "text": [
      "Inout string: Social\n",
      "Character you want to remove: c\n",
      "Soial\n"
     ]
    }
   ],
   "source": [
    "# b. using translate() method\n",
    "\n",
    "def remove_char(s1,s2):\n",
    "    dict = {ord(s2): None}\n",
    "    print(s1.translate(dict))   \n",
    "str1 = input(\"Inout string: \")\n",
    "str2 = input(\"Character you want to remove: \")\n",
    "remove_char(str1,str2)\n"
   ]
  },
  {
   "cell_type": "markdown",
   "id": "88d7e36b",
   "metadata": {},
   "source": [
    "# 2. Python Program to count occurrence of a given characters in string."
   ]
  },
  {
   "cell_type": "code",
   "execution_count": 9,
   "id": "ca12f4b6",
   "metadata": {},
   "outputs": [
    {
     "name": "stdout",
     "output_type": "stream",
     "text": [
      "Enter the string: Manisha\n",
      "Input character to count : a\n",
      "Occurance of a is 2\n"
     ]
    }
   ],
   "source": [
    "# a) using for loop\n",
    "\n",
    "text = input(\"Enter the string: \")\n",
    "char = input(\"Input character to count : \")\n",
    "\n",
    "count = 0\n",
    "for i in range(len(text)):\n",
    "    if text[i] == char:\n",
    "        count += 1\n",
    "print(f\"Occurance of {char} is\",count)"
   ]
  },
  {
   "cell_type": "code",
   "execution_count": null,
   "id": "9ec1192f",
   "metadata": {},
   "outputs": [],
   "source": [
    "# b) using while loop\n",
    "\n",
    "text = input(\"Enter a string : \")\n",
    "char = input(\"Enter character to count : \")\n",
    "\n",
    "count = 0\n",
    "index = 0\n",
    "\n",
    "while(len(text)>1):\n",
    "    if text[index] == char:\n",
    "        count += 1\n",
    "    index += 1\n",
    "print(f\"Occurance of {char} is\",count)"
   ]
  },
  {
   "cell_type": "code",
   "execution_count": 6,
   "id": "43e6cef0",
   "metadata": {},
   "outputs": [
    {
     "name": "stdout",
     "output_type": "stream",
     "text": [
      "Enter string: jggfsfgffx\n",
      "Enter charater you want to count: f\n",
      "Count of f is:  4\n"
     ]
    }
   ],
   "source": [
    "# c) using method\n",
    "\n",
    "text = input(\"Enter string: \")\n",
    "char = input(\"Enter charater you want to count: \")\n",
    "\n",
    "def count_char(text,char):\n",
    "    count = 0\n",
    "    for i in range(len(text)):\n",
    "        if text[i] == char:\n",
    "            count += 1\n",
    "    return count\n",
    "res = count_char(text,char)\n",
    "print(f\"Count of {char} is: \",res)"
   ]
  },
  {
   "cell_type": "markdown",
   "id": "ef6f3d3b",
   "metadata": {},
   "source": [
    "# 3.Python Program to check if two Strings are Anagram."
   ]
  },
  {
   "cell_type": "code",
   "execution_count": 7,
   "id": "b7d6a41e",
   "metadata": {},
   "outputs": [
    {
     "name": "stdout",
     "output_type": "stream",
     "text": [
      "Enter first string: Manisha\n",
      "Enter second string: aanihsM\n",
      "Manisha and aanihsM are anagram\n"
     ]
    }
   ],
   "source": [
    "def check_ana(str1,str2):\n",
    "    if (sorted(str1)) == (sorted(str2)):\n",
    "        return True\n",
    "    else:\n",
    "        return False\n",
    "string1 = input(\"Enter first string: \")\n",
    "string2 = input(\"Enter second string: \")\n",
    "res = check_ana(string1,string2)\n",
    "if res == True:\n",
    "    print(f\"{string1} and {string2} are anagram\")\n",
    "else:\n",
    "    print(f\"{string1} and {string2} are not anagram\")\n",
    "    \n",
    "    "
   ]
  },
  {
   "cell_type": "markdown",
   "id": "61f64cb3",
   "metadata": {},
   "source": [
    "# 4.Python program to check a String is palindrome or not."
   ]
  },
  {
   "cell_type": "code",
   "execution_count": 9,
   "id": "863e18ad",
   "metadata": {},
   "outputs": [
    {
     "name": "stdout",
     "output_type": "stream",
     "text": [
      "Enter string : MONEY\n",
      "MONEY is not a Palindrome\n"
     ]
    }
   ],
   "source": [
    "def check_palindrome(string):\n",
    "    if string == string[::-1]:\n",
    "        return True\n",
    "    else:\n",
    "        return False\n",
    "text = input(\"Enter string : \")\n",
    "res = check_palindrome(text)\n",
    "if res == True:\n",
    "    print(f\"{text} is a Palindrome\")\n",
    "else:    \n",
    "    print(f\"{text} is not a Palindrome\")\n",
    "    "
   ]
  },
  {
   "cell_type": "code",
   "execution_count": 11,
   "id": "1769e2ea",
   "metadata": {},
   "outputs": [
    {
     "name": "stdout",
     "output_type": "stream",
     "text": [
      "Please give a String : MON\n",
      "MON is not a Palindrome\n"
     ]
    }
   ],
   "source": [
    "#b) Loop will be execute only half time of the length of string.\n",
    "\n",
    "# Here we have declared one method isPalindrome(string).\n",
    "\n",
    "def isPalindrome(string): \n",
    "    for i in range(0, int(len(string)/2)): \n",
    "        if string[i] != string[len(string)-i-1]:\n",
    "            return False\n",
    "    return True\n",
    "string = input(\"Please give a String : \")\n",
    "if (isPalindrome(string)):\n",
    "    print(f\"{string} is a Palindrome\")\n",
    "else:\n",
    "    print(f\"{string} is not a Palindrome\")"
   ]
  },
  {
   "cell_type": "markdown",
   "id": "9c4ddaeb",
   "metadata": {},
   "source": [
    "# 5.Python program to check given character is vowel or consonant."
   ]
  },
  {
   "cell_type": "code",
   "execution_count": 12,
   "id": "cd18d8bc",
   "metadata": {},
   "outputs": [
    {
     "name": "stdout",
     "output_type": "stream",
     "text": [
      "Enter character: l\n",
      "Consonent\n"
     ]
    }
   ],
   "source": [
    "char = input(\"Enter character: \")\n",
    "if char =='A' or char == 'E' or char == 'I' or char =='O' or char =='U' \\\n",
    "    or char == 'a' or char == 'e' or char == 'i' or char =='o' or char == 'u':\n",
    "    print(\"Vowel\")\n",
    "else:\n",
    "    print(\"Consonent\")"
   ]
  },
  {
   "cell_type": "markdown",
   "id": "351f85a3",
   "metadata": {},
   "source": [
    "# 6.Python program to check given character is digit or not."
   ]
  },
  {
   "cell_type": "code",
   "execution_count": 15,
   "id": "bb61b556",
   "metadata": {},
   "outputs": [
    {
     "name": "stdout",
     "output_type": "stream",
     "text": [
      "Enter character: u\n",
      "u is not a digit\n"
     ]
    }
   ],
   "source": [
    "char = input(\"Enter character: \")\n",
    "if char >= '0' and char <= '9':\n",
    "    print(f\"{char} is digit\")\n",
    "else:\n",
    "    print(f\"{char} is not a digit\")"
   ]
  },
  {
   "cell_type": "markdown",
   "id": "cc76948c",
   "metadata": {},
   "source": [
    "# 7.Python program to check given character is digit or not using isdigit() method."
   ]
  },
  {
   "cell_type": "code",
   "execution_count": 17,
   "id": "7829ed48",
   "metadata": {},
   "outputs": [
    {
     "name": "stdout",
     "output_type": "stream",
     "text": [
      "Enter character: tur\n",
      "tur is not a digit\n"
     ]
    }
   ],
   "source": [
    "char = input(\"Enter character: \")\n",
    "res = char.isdigit()\n",
    "if res == True:\n",
    "    print(f\"{char} is digit\")\n",
    "else:\n",
    "    print(f\"{char} is not a digit\")"
   ]
  },
  {
   "cell_type": "markdown",
   "id": "6240db42",
   "metadata": {},
   "source": [
    "# 8.Python program to replace the string space with a given character."
   ]
  },
  {
   "cell_type": "code",
   "execution_count": 23,
   "id": "be159b7a",
   "metadata": {},
   "outputs": [
    {
     "name": "stdout",
     "output_type": "stream",
     "text": [
      "Enter a string: jgd uduy efte jhdy\n",
      "Enter character you want to replace space with : O\n",
      "jgdOuduyOefteOjhdy\n"
     ]
    }
   ],
   "source": [
    "text = input(\"Enter a string: \")\n",
    "res = ''\n",
    "char = input(\"Enter character you want to replace space with : \")\n",
    "\n",
    "for i in text:\n",
    "    if i == ' ':\n",
    "        i = char\n",
    "    res += i\n",
    "print(res)"
   ]
  },
  {
   "cell_type": "code",
   "execution_count": 94,
   "id": "c9acb180",
   "metadata": {},
   "outputs": [
    {
     "name": "stdout",
     "output_type": "stream",
     "text": [
      "Enter a String : Manisha Kumari\n",
      "Enter a Character : O\n",
      "String after removing space with O =  ManishaOKumari\n"
     ]
    }
   ],
   "source": [
    "\n",
    "#taking input from the user\n",
    "string = input(\"Enter a String : \")\n",
    "result = ''  #empty string\n",
    "ch = input(\"Enter a Character : \")\n",
    "for i in string:  #iterating using for loop\n",
    "        if i == ' ':  #if any space found in the string\n",
    "            i = ch   #replacing space with character\n",
    "        result += i   #concatenating each character of the string without space\n",
    "print(f\"String after removing space with {ch} = \",result)"
   ]
  },
  {
   "cell_type": "markdown",
   "id": "840b7710",
   "metadata": {},
   "source": [
    "# 9.Python program to replace the string space with a given character using replace() method. "
   ]
  },
  {
   "cell_type": "code",
   "execution_count": 25,
   "id": "84263b10",
   "metadata": {},
   "outputs": [
    {
     "name": "stdout",
     "output_type": "stream",
     "text": [
      "Enter a string: mnjf dhgfhfg dsghdfhf  jhjhgh dhd \n",
      "Enter character to replace: O\n",
      "mnjfOdhgfhfgOdsghdfhfOOjhjhghOdhdO\n"
     ]
    }
   ],
   "source": [
    "txt = input(\"Enter a string: \")\n",
    "char = input(\"Enter character to replace: \")\n",
    "\n",
    "new_text = txt.replace(\" \", char)\n",
    "\n",
    "print(new_text)"
   ]
  },
  {
   "cell_type": "markdown",
   "id": "1c38c896",
   "metadata": {},
   "source": [
    "# 10.Python program to convert lowercase char to uppercase of string."
   ]
  },
  {
   "cell_type": "code",
   "execution_count": 37,
   "id": "6c74467d",
   "metadata": {},
   "outputs": [
    {
     "name": "stdout",
     "output_type": "stream",
     "text": [
      "Enter a character: mnihgf\n",
      " MNIHGF\n"
     ]
    }
   ],
   "source": [
    "text = input(\"Enter a character: \")\n",
    "new_text = ''\n",
    "for i in text:\n",
    "    if i.islower():\n",
    "        i = i.upper() \n",
    "    new_text += i\n",
    "print(new_text)"
   ]
  },
  {
   "cell_type": "markdown",
   "id": "00fabdde",
   "metadata": {},
   "source": [
    "# 11.Python program to convert lowercase vowel to uppercase in string"
   ]
  },
  {
   "cell_type": "code",
   "execution_count": 38,
   "id": "07bb602c",
   "metadata": {},
   "outputs": [
    {
     "name": "stdout",
     "output_type": "stream",
     "text": [
      "Enter string: mansihdd\n",
      "mAnsIhdd\n"
     ]
    }
   ],
   "source": [
    "text = input(\"Enter string: \")\n",
    "new_str = ''\n",
    "for i in text:\n",
    "    if i.islower() and (i == 'a' or i == 'e' or i == 'i' or i =='o' or i == 'u'):\n",
    "        i = i.upper()\n",
    "    new_str += i\n",
    "print(new_str)"
   ]
  },
  {
   "cell_type": "markdown",
   "id": "7a8dddf7",
   "metadata": {},
   "source": [
    "# 12.Python program to delete vowels in a given string."
   ]
  },
  {
   "cell_type": "code",
   "execution_count": 46,
   "id": "b8837db0",
   "metadata": {},
   "outputs": [
    {
     "name": "stdout",
     "output_type": "stream",
     "text": [
      "Enter a string : mnihhdfio\n",
      "New string after removing vowel:  mnhhdf\n"
     ]
    }
   ],
   "source": [
    "text = input(\"Enter a string : \")\n",
    "new_text = ''\n",
    "for i in text:\n",
    "    if i in('A','E','I','O','U','a','e','i','o','u'):\n",
    "        i = ''\n",
    "    new_text += i\n",
    "print(\"New string after removing vowel: \",new_text)"
   ]
  },
  {
   "cell_type": "markdown",
   "id": "dd1ca931",
   "metadata": {},
   "source": [
    "# 13.Python program to count Occurrence Of Vowels & Consonants in a String."
   ]
  },
  {
   "cell_type": "code",
   "execution_count": 48,
   "id": "2c75c2be",
   "metadata": {},
   "outputs": [
    {
     "name": "stdout",
     "output_type": "stream",
     "text": [
      "Enter a string: Manishsdfd udtr adwuyst shfgsd sfdtthefgdfd\n",
      "Vowel count:  6\n",
      "Consonent count:  37\n"
     ]
    }
   ],
   "source": [
    "text = input(\"Enter a string: \")\n",
    "count_vowel = 0\n",
    "count_consonent = 0\n",
    "for i in text:\n",
    "    if i in('A','E','I','O','U','a','e','i','o','u'):\n",
    "        count_vowel += 1\n",
    "    else:\n",
    "        count_consonent += 1\n",
    "print(\"Vowel count: \",count_vowel)\n",
    "print(\"Consonent count: \",count_consonent)"
   ]
  },
  {
   "cell_type": "markdown",
   "id": "26feeb28",
   "metadata": {},
   "source": [
    "# 14.Python program to print the highest frequency character in a String."
   ]
  },
  {
   "cell_type": "code",
   "execution_count": 76,
   "id": "4cc9928e",
   "metadata": {},
   "outputs": [
    {
     "name": "stdout",
     "output_type": "stream",
     "text": [
      "Enter the string : Mansiahsvshg\n",
      "Highest frequency character:  s\n",
      "Frequency count:  3\n"
     ]
    }
   ],
   "source": [
    "# Getting string input from the user \n",
    "myStr =  input('Enter the string : ')\n",
    "\n",
    "# Finding the maximum frequency character of the string \n",
    "freq = {}\n",
    "for i in myStr:\n",
    "    if i in freq:\n",
    "        freq[i] += 1\n",
    "    else:\n",
    "        freq[i] = 1\n",
    "maxFreqChar = max(freq, key = freq.get)\n",
    "\n",
    "# Printing values \n",
    "print(\"Highest frequency character: \",maxFreqChar)\n",
    "print(\"Frequency count: \", freq[maxFreqChar])\n"
   ]
  },
  {
   "cell_type": "markdown",
   "id": "e836d7d0",
   "metadata": {},
   "source": [
    "# 15.Python program to Replace First Occurrence Of Vowel With ‘-‘ in String."
   ]
  },
  {
   "cell_type": "code",
   "execution_count": 89,
   "id": "ffb0f1e5",
   "metadata": {},
   "outputs": [
    {
     "name": "stdout",
     "output_type": "stream",
     "text": [
      "Enter a string: Manisha\n",
      "New string:  M-nisha\n"
     ]
    }
   ],
   "source": [
    "text = input(\"Enter a string: \")\n",
    "new_text = ''\n",
    "for i in text:\n",
    "    if i in('A','E','I','O','U','a','e','i','o','u'):\n",
    "        new_text = text.replace(i, '-',1)\n",
    "print(\"New string: \",new_text)\n",
    "    "
   ]
  },
  {
   "cell_type": "markdown",
   "id": "325d699a",
   "metadata": {},
   "source": [
    "# 16.Python program to count alphabets, digits and special characters."
   ]
  },
  {
   "cell_type": "code",
   "execution_count": null,
   "id": "54c1c212",
   "metadata": {},
   "outputs": [],
   "source": [
    "text = input(\"Enter a string: \")\n",
    "count_alpha = 0\n",
    "count_digit = 0\n",
    "count_special_char = 0\n",
    "for i in text:\n",
    "    if i in('A','E','I','O','U','a','e','i','o','u'):\n",
    "        count_vowel += 1\n",
    "    else:\n",
    "        count_consonent += 1\n",
    "print(\"Vowel count: \",count_vowel)\n",
    "print(\"Consonent count: \",count_consonent)"
   ]
  },
  {
   "cell_type": "markdown",
   "id": "658e44e4",
   "metadata": {},
   "source": [
    "# 17.Python program to separate characters in a given string."
   ]
  },
  {
   "cell_type": "code",
   "execution_count": 67,
   "id": "d4203400",
   "metadata": {},
   "outputs": [
    {
     "name": "stdout",
     "output_type": "stream",
     "text": [
      "Enter string: AMnsiah\n",
      "['A', 'M', 'n', 's', 'i', 'a', 'h']\n"
     ]
    }
   ],
   "source": [
    "text = input(\"Enter string: \")\n",
    "print(list(text))"
   ]
  },
  {
   "cell_type": "markdown",
   "id": "c1ba0a07",
   "metadata": {},
   "source": [
    "# 18.Python program to remove blank space from string."
   ]
  },
  {
   "cell_type": "code",
   "execution_count": 50,
   "id": "d03a0fea",
   "metadata": {},
   "outputs": [
    {
     "name": "stdout",
     "output_type": "stream",
     "text": [
      "Enter string: mnsdif gsfdgd jgdhgf\n",
      "mnsdif gsfdgd jgdhgf\n"
     ]
    }
   ],
   "source": [
    "text = input(\"Enter string: \")\n",
    "if text == ' ':\n",
    "    text.replace(' ',\"\")\n",
    "print(text)"
   ]
  },
  {
   "cell_type": "markdown",
   "id": "dc9ce19e",
   "metadata": {},
   "source": [
    "# 19.Python program to concatenate two strings using join() method."
   ]
  },
  {
   "cell_type": "code",
   "execution_count": 53,
   "id": "ac855b91",
   "metadata": {},
   "outputs": [
    {
     "name": "stdout",
     "output_type": "stream",
     "text": [
      "ENter string 1: Manisha\n",
      "Enter string2: Kumari\n"
     ]
    },
    {
     "data": {
      "text/plain": [
       "'ManishaKumari'"
      ]
     },
     "execution_count": 53,
     "metadata": {},
     "output_type": "execute_result"
    }
   ],
   "source": [
    "text1 = input(\"ENter string 1: \")\n",
    "text2 = input(\"Enter string2: \")\n",
    "\"\".join([text1, text2])"
   ]
  },
  {
   "cell_type": "markdown",
   "id": "b356ce34",
   "metadata": {},
   "source": [
    "# 20.Python program to concatenate two strings without using join() method."
   ]
  },
  {
   "cell_type": "code",
   "execution_count": 51,
   "id": "5d57569c",
   "metadata": {},
   "outputs": [
    {
     "name": "stdout",
     "output_type": "stream",
     "text": [
      "ENter string 1: Manisha\n",
      "Enter string2: Kumari\n",
      "ManishaKumari\n"
     ]
    }
   ],
   "source": [
    "text1 = input(\"ENter string 1: \")\n",
    "text2 = input(\"Enter string2: \")\n",
    "print(text1+text2)"
   ]
  },
  {
   "cell_type": "markdown",
   "id": "efb39245",
   "metadata": {},
   "source": [
    "# 21.Python program to remove repeated character from string."
   ]
  },
  {
   "cell_type": "code",
   "execution_count": 77,
   "id": "a5b8c94b",
   "metadata": {},
   "outputs": [
    {
     "name": "stdout",
     "output_type": "stream",
     "text": [
      "ENter stringMnnniisha\n",
      "New string :   Mnisha\n"
     ]
    }
   ],
   "source": [
    "text = input(\"ENter string: \")\n",
    "res = ' '\n",
    "for i in text:\n",
    "    if i not in res:\n",
    "        res += i\n",
    "print(\"New string : \",res)\n",
    "        \n",
    "    "
   ]
  },
  {
   "cell_type": "markdown",
   "id": "8c3331ef",
   "metadata": {},
   "source": [
    "# 22.Python program to calculate sum of integers in string.\n",
    " "
   ]
  },
  {
   "cell_type": "code",
   "execution_count": 66,
   "id": "1f7fd1b2",
   "metadata": {},
   "outputs": [
    {
     "name": "stdout",
     "output_type": "stream",
     "text": [
      "Enter string: Manishs786\n",
      "21\n"
     ]
    }
   ],
   "source": [
    "text = input(\"Enter string: \")\n",
    "res = 0\n",
    "for i in range(len(text)):\n",
    "    if text[i] >= '0' and text[i] <= '9':\n",
    "        res += int(text[i])\n",
    "print(res)"
   ]
  },
  {
   "cell_type": "markdown",
   "id": "25b202ff",
   "metadata": {},
   "source": [
    "# 23.Python program to print all non repeating character in string."
   ]
  },
  {
   "cell_type": "code",
   "execution_count": 80,
   "id": "3fb2a979",
   "metadata": {},
   "outputs": [
    {
     "name": "stdout",
     "output_type": "stream",
     "text": [
      "Enter string: Manisha\n",
      "Non-repeating character:  Mnish\n"
     ]
    }
   ],
   "source": [
    "text = input(\"Enter string: \")\n",
    "res = ' '\n",
    "for i in text:\n",
    "    count = 0\n",
    "    for j in text:\n",
    "        if i == j:\n",
    "            count += 1\n",
    "        if count > 1:\n",
    "            break\n",
    "    if count ==1:\n",
    "        res += i\n",
    "print(\"Non-repeating character:\",res)\n",
    "                "
   ]
  },
  {
   "cell_type": "code",
   "execution_count": null,
   "id": "9c4eb75d",
   "metadata": {},
   "outputs": [],
   "source": []
  },
  {
   "cell_type": "markdown",
   "id": "e95952ab",
   "metadata": {},
   "source": [
    "# 24. Python program to copy one string to another string.\n"
   ]
  },
  {
   "cell_type": "code",
   "execution_count": 92,
   "id": "af35c1a9",
   "metadata": {},
   "outputs": [
    {
     "name": "stdout",
     "output_type": "stream",
     "text": [
      "ENter string: Manisha\n",
      "Copied string:  Manisha\n"
     ]
    }
   ],
   "source": [
    "text = input(\"ENter string: \")\n",
    "copy_text = text[:]\n",
    "print(\"Copied string: \",copy_text)"
   ]
  },
  {
   "cell_type": "markdown",
   "id": "850745bf",
   "metadata": {},
   "source": [
    "# 25. Python Program to sort characters of string in ascending order.\n"
   ]
  },
  {
   "cell_type": "code",
   "execution_count": 57,
   "id": "aa3a175d",
   "metadata": {},
   "outputs": [
    {
     "name": "stdout",
     "output_type": "stream",
     "text": [
      "Enter text: Manisha\n",
      "['M', 'a', 'a', 'h', 'i', 'n', 's']\n"
     ]
    }
   ],
   "source": [
    "text = input(\"Enter text: \")\n",
    "print((sorted(text)[::1]))"
   ]
  },
  {
   "cell_type": "markdown",
   "id": "d9cc0c3e",
   "metadata": {},
   "source": [
    "# 26. Python Program to sort character of string in descending order.\n"
   ]
  },
  {
   "cell_type": "code",
   "execution_count": 58,
   "id": "a9936398",
   "metadata": {},
   "outputs": [
    {
     "name": "stdout",
     "output_type": "stream",
     "text": [
      "Enter text: Manisha\n",
      "['s', 'n', 'i', 'h', 'a', 'a', 'M']\n"
     ]
    }
   ],
   "source": [
    "text = input(\"Enter text: \")\n",
    "print((sorted(text)[::-1]))"
   ]
  },
  {
   "cell_type": "code",
   "execution_count": 1,
   "id": "19e2b832",
   "metadata": {},
   "outputs": [
    {
     "name": "stdout",
     "output_type": "stream",
     "text": [
      "b'\\x00\\x00\\x00\\x00\\x00\\x00\\x00\\x00\\x00'\n"
     ]
    }
   ],
   "source": [
    "n=9\n",
    "print(bytes(n))\n"
   ]
  },
  {
   "cell_type": "code",
   "execution_count": null,
   "id": "e43b55a9",
   "metadata": {},
   "outputs": [],
   "source": []
  }
 ],
 "metadata": {
  "kernelspec": {
   "display_name": "Python 3 (ipykernel)",
   "language": "python",
   "name": "python3"
  },
  "language_info": {
   "codemirror_mode": {
    "name": "ipython",
    "version": 3
   },
   "file_extension": ".py",
   "mimetype": "text/x-python",
   "name": "python",
   "nbconvert_exporter": "python",
   "pygments_lexer": "ipython3",
   "version": "3.9.13"
  }
 },
 "nbformat": 4,
 "nbformat_minor": 5
}
